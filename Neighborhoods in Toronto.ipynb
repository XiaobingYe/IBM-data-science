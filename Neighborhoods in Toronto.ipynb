{
 "cells": [
  {
   "cell_type": "markdown",
   "metadata": {},
   "source": [
    "# Segmenting and Clustering Neighborhoods in Toronto"
   ]
  },
  {
   "cell_type": "code",
   "execution_count": null,
   "metadata": {},
   "outputs": [],
   "source": [
    "!pip install lxml\n",
    "!pip install bs4\n",
    "\n",
    "import requests\n",
    "import pandas as pd\n",
    "from bs4 import BeautifulSoup"
   ]
  },
  {
   "cell_type": "markdown",
   "metadata": {},
   "source": [
    "## Step 1: importing and cleaning the neighborhoods data in Toronto"
   ]
  },
  {
   "cell_type": "markdown",
   "metadata": {},
   "source": [
    "### 1. Scraping the web page by using the BeautifulSoup package"
   ]
  },
  {
   "cell_type": "code",
   "execution_count": 328,
   "metadata": {},
   "outputs": [],
   "source": [
    "# tables = pd.read_html('https://en.wikipedia.org/wiki/List_of_postal_codes_of_Canada:_M')\n",
    "# canada = tables[0]\n",
    "\n",
    "website_url = requests.get('https://en.wikipedia.org/wiki/List_of_postal_codes_of_Canada:_M').text\n",
    "soup = BeautifulSoup(website_url,'lxml')\n",
    "My_table = soup.find('table',{'class':'wikitable sortable'})"
   ]
  },
  {
   "cell_type": "markdown",
   "metadata": {},
   "source": [
    "### 2. Importing the html data into the Python dataframe - canada"
   ]
  },
  {
   "cell_type": "code",
   "execution_count": 329,
   "metadata": {},
   "outputs": [
    {
     "name": "stdout",
     "output_type": "stream",
     "text": [
      "  PostalCode           Borough      Neighborhood\n",
      "0        M1A      Not assigned      Not assigned\n",
      "1        M2A      Not assigned      Not assigned\n",
      "2        M3A        North York         Parkwoods\n",
      "3        M4A        North York  Victoria Village\n",
      "4        M5A  Downtown Toronto      Harbourfront\n",
      "\n",
      "\n",
      "       PostalCode       Borough  Neighborhood\n",
      "count         288           288           288\n",
      "unique        180            12           209\n",
      "top           M9V  Not assigned  Not assigned\n",
      "freq            8            77            78\n",
      "\n",
      "\n",
      "Not assigned        77\n",
      "Etobicoke           45\n",
      "North York          38\n",
      "Downtown Toronto    37\n",
      "Scarborough         37\n",
      "Central Toronto     17\n",
      "West Toronto        13\n",
      "York                 9\n",
      "East Toronto         7\n",
      "East York            6\n",
      "Mississauga          1\n",
      "Queen's Park         1\n",
      "Name: Borough, dtype: int64\n",
      "\n",
      "\n",
      "Dataset Shape:  (288, 3)\n"
     ]
    }
   ],
   "source": [
    "PostalCode=[]\n",
    "for row in My_table.findAll('tr')[1:]:\n",
    "    PostalCode_cell=row.findAll('td')[0]\n",
    "    PostalCode.append(PostalCode_cell.text)    \n",
    "\n",
    "Borough=[]\n",
    "for row in My_table.findAll('tr')[1:] :\n",
    "    Borough_cell=row.findAll('td')[1]\n",
    "    Borough.append(Borough_cell.text)   \n",
    "\n",
    "Neighbourhood=[]\n",
    "for row in My_table.findAll('tr')[1:]:\n",
    "    Neighbourhood_cell=row.findAll('td')[2]\n",
    "    Neighbourhood_cell.text.rstrip('\\n')\n",
    "    Neighbourhood.append(Neighbourhood_cell.text)\n",
    "\n",
    "canada=pd.DataFrame({'PostalCode':PostalCode,'Borough':Borough,'Neighborhood':Neighbourhood})\n",
    "canada['Neighborhood'] = canada.Neighborhood.str.replace('(\\n)','')\n",
    "\n",
    "print(canada.head())\n",
    "print('\\n')\n",
    "print(canada.describe())\n",
    "print('\\n')\n",
    "print(canada['Borough'].value_counts())\n",
    "print('\\n')\n",
    "print(\"Dataset Shape: \", canada.shape)"
   ]
  },
  {
   "cell_type": "markdown",
   "metadata": {},
   "source": [
    "### 3. Cleaning data:\n",
    "####    1) deleting data with the borough that is Not assigned.\n",
    "####    2) combining the rows with same postal code into one row with the neighborhoods separated with a comma.\n",
    "####    3) If data has a borough but a Not assigned neighborhood, the neighborhood will be the same as the borough."
   ]
  },
  {
   "cell_type": "code",
   "execution_count": 327,
   "metadata": {},
   "outputs": [
    {
     "name": "stdout",
     "output_type": "stream",
     "text": [
      "  PostalCode           Borough                      Neighborhood\n",
      "0        M3A        North York                         Parkwoods\n",
      "1        M4A        North York                  Victoria Village\n",
      "2        M5A  Downtown Toronto         Harbourfront, Regent Park\n",
      "3        M6A        North York  Lawrence Heights, Lawrence Manor\n",
      "4        M7A      Queen's Park                      Queen's Park\n",
      "\n",
      "\n",
      "       PostalCode     Borough Neighborhood\n",
      "count         103         103          103\n",
      "unique        103          11          103\n",
      "top           M4G  North York    Northwest\n",
      "freq            1          24            1\n",
      "\n",
      "\n",
      "Dataset Shape:  (103, 3)\n"
     ]
    }
   ],
   "source": [
    "canada = canada[canada['Borough'] != 'Not assigned']\n",
    "canada.reset_index(drop=True, inplace = True)\n",
    "\n",
    "dup_postal = canada['PostalCode'].value_counts().to_frame()\n",
    "dup_postal = dup_postal[dup_postal['PostalCode'] > 1]\n",
    "\n",
    "del_index=[]\n",
    "for dup in dup_postal.index.values:\n",
    "    index=[]\n",
    "    for i in range(canada.shape[0]):\n",
    "        if canada.loc[i,'PostalCode'] == dup :\n",
    "            index = index +[i]\n",
    "        if i == (canada.shape[0]-1) :\n",
    "            canada.loc[index[0],'Neighborhood'] = ', '.join(canada.loc[index,'Neighborhood'].values)\n",
    "            del_index = del_index + index[1:]\n",
    "\n",
    "canada.drop(index = del_index,axis = 0, inplace=True)\n",
    "canada.reset_index(drop=True, inplace = True)\n",
    "\n",
    "for index, borough in enumerate(canada['Neighborhood']):\n",
    "    if borough == 'Not assigned':\n",
    "        canada.loc[index, 'Neighborhood'] = canada.loc[index, 'Borough']\n",
    "        \n",
    "print(canada.head())\n",
    "print('\\n')\n",
    "print(canada.describe())\n",
    "print('\\n')\n",
    "print(\"Dataset Shape: \", canada.shape)"
   ]
  },
  {
   "cell_type": "code",
   "execution_count": null,
   "metadata": {},
   "outputs": [],
   "source": []
  }
 ],
 "metadata": {
  "kernelspec": {
   "display_name": "Python",
   "language": "python",
   "name": "conda-env-python-py"
  },
  "language_info": {
   "codemirror_mode": {
    "name": "ipython",
    "version": 3
   },
   "file_extension": ".py",
   "mimetype": "text/x-python",
   "name": "python",
   "nbconvert_exporter": "python",
   "pygments_lexer": "ipython3",
   "version": "3.6.7"
  }
 },
 "nbformat": 4,
 "nbformat_minor": 4
}
