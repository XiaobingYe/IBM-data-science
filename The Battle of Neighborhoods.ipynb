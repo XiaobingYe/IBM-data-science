{
 "cells": [
  {
   "cell_type": "markdown",
   "metadata": {},
   "source": [
    "## The Best Neighborhood for opening a Chinese restaurant in Toronto"
   ]
  },
  {
   "cell_type": "markdown",
   "metadata": {},
   "source": [
    "### Introduction"
   ]
  },
  {
   "cell_type": "markdown",
   "metadata": {},
   "source": [
    "In Toronto, My friend is looking to open a Chinese restaurant, and he is looking for the place for this restaurant. \n",
    "He knows that I am learning data science, so he asks for my help to recommend which place they can open it."
   ]
  },
  {
   "cell_type": "markdown",
   "metadata": {},
   "source": [
    "### Data"
   ]
  },
  {
   "cell_type": "markdown",
   "metadata": {},
   "source": [
    "In the project of Segmenting and Clustering Neighborhoods in Toronto, I made two datasets to use for this project. I will use the Foursquare location data to execute my idea."
   ]
  },
  {
   "cell_type": "markdown",
   "metadata": {},
   "source": [
    "The 1st dataset is 'Toronto_Venues_Sorted'. I can use this dataset to ranking 'Neighborhood' by judging if the Most Common Venues include 'Chinese Restaurant' or not."
   ]
  },
  {
   "cell_type": "markdown",
   "metadata": {},
   "source": [
    "The 2nd dataset is 'Borough_Toronto' which includes the latitude and longitude of each neighborhood. I can use this dataset to find out all Chinese restaurants of neighborhoods in Toronto. Moreover, I can find out the rating and tips of each restaurant."
   ]
  },
  {
   "cell_type": "markdown",
   "metadata": {},
   "source": [
    "By using the common venue score, rating and tips, I can recommend the best place for my friend."
   ]
  },
  {
   "cell_type": "code",
   "execution_count": 129,
   "metadata": {},
   "outputs": [],
   "source": [
    "import requests # library to handle requests\n",
    "import pandas as pd # library for data analsysis\n",
    "import numpy as np # library to handle data in a vectorized manner"
   ]
  },
  {
   "cell_type": "markdown",
   "metadata": {},
   "source": [
    "#### The dataset: Toronto_Venues_Sorted"
   ]
  },
  {
   "cell_type": "code",
   "execution_count": 130,
   "metadata": {},
   "outputs": [
    {
     "data": {
      "text/html": [
       "<div>\n",
       "<style scoped>\n",
       "    .dataframe tbody tr th:only-of-type {\n",
       "        vertical-align: middle;\n",
       "    }\n",
       "\n",
       "    .dataframe tbody tr th {\n",
       "        vertical-align: top;\n",
       "    }\n",
       "\n",
       "    .dataframe thead th {\n",
       "        text-align: right;\n",
       "    }\n",
       "</style>\n",
       "<table border=\"1\" class=\"dataframe\">\n",
       "  <thead>\n",
       "    <tr style=\"text-align: right;\">\n",
       "      <th></th>\n",
       "      <th>Neighborhood</th>\n",
       "      <th>1st Most Common Venue</th>\n",
       "      <th>2nd Most Common Venue</th>\n",
       "      <th>3rd Most Common Venue</th>\n",
       "      <th>4th Most Common Venue</th>\n",
       "      <th>5th Most Common Venue</th>\n",
       "      <th>6th Most Common Venue</th>\n",
       "      <th>7th Most Common Venue</th>\n",
       "      <th>8th Most Common Venue</th>\n",
       "      <th>9th Most Common Venue</th>\n",
       "      <th>10th Most Common Venue</th>\n",
       "    </tr>\n",
       "  </thead>\n",
       "  <tbody>\n",
       "    <tr>\n",
       "      <th>0</th>\n",
       "      <td>Adelaide, King, Richmond</td>\n",
       "      <td>Coffee Shop</td>\n",
       "      <td>Café</td>\n",
       "      <td>Sushi Restaurant</td>\n",
       "      <td>Bar</td>\n",
       "      <td>Thai Restaurant</td>\n",
       "      <td>Asian Restaurant</td>\n",
       "      <td>Gym</td>\n",
       "      <td>Steakhouse</td>\n",
       "      <td>Hotel</td>\n",
       "      <td>American Restaurant</td>\n",
       "    </tr>\n",
       "    <tr>\n",
       "      <th>1</th>\n",
       "      <td>Agincourt</td>\n",
       "      <td>Chinese Restaurant</td>\n",
       "      <td>Coffee Shop</td>\n",
       "      <td>Indian Restaurant</td>\n",
       "      <td>Supermarket</td>\n",
       "      <td>Pharmacy</td>\n",
       "      <td>Restaurant</td>\n",
       "      <td>Caribbean Restaurant</td>\n",
       "      <td>Bookstore</td>\n",
       "      <td>Breakfast Spot</td>\n",
       "      <td>Clothing Store</td>\n",
       "    </tr>\n",
       "    <tr>\n",
       "      <th>2</th>\n",
       "      <td>Agincourt North, L'Amoreaux East, Milliken, St...</td>\n",
       "      <td>Chinese Restaurant</td>\n",
       "      <td>Vietnamese Restaurant</td>\n",
       "      <td>Coffee Shop</td>\n",
       "      <td>Bubble Tea Shop</td>\n",
       "      <td>Bakery</td>\n",
       "      <td>Pharmacy</td>\n",
       "      <td>Dessert Shop</td>\n",
       "      <td>Noodle House</td>\n",
       "      <td>Korean Restaurant</td>\n",
       "      <td>Japanese Restaurant</td>\n",
       "    </tr>\n",
       "    <tr>\n",
       "      <th>3</th>\n",
       "      <td>Albion Gardens, Beaumond Heights, Humbergate, ...</td>\n",
       "      <td>Coffee Shop</td>\n",
       "      <td>Fast Food Restaurant</td>\n",
       "      <td>Asian Restaurant</td>\n",
       "      <td>Pharmacy</td>\n",
       "      <td>Sandwich Place</td>\n",
       "      <td>Grocery Store</td>\n",
       "      <td>Chinese Restaurant</td>\n",
       "      <td>Caribbean Restaurant</td>\n",
       "      <td>Indian Restaurant</td>\n",
       "      <td>Sushi Restaurant</td>\n",
       "    </tr>\n",
       "    <tr>\n",
       "      <th>4</th>\n",
       "      <td>Alderwood, Long Branch</td>\n",
       "      <td>Coffee Shop</td>\n",
       "      <td>Burger Joint</td>\n",
       "      <td>Furniture / Home Store</td>\n",
       "      <td>Café</td>\n",
       "      <td>Breakfast Spot</td>\n",
       "      <td>Bakery</td>\n",
       "      <td>Middle Eastern Restaurant</td>\n",
       "      <td>Burrito Place</td>\n",
       "      <td>Seafood Restaurant</td>\n",
       "      <td>Grocery Store</td>\n",
       "    </tr>\n",
       "  </tbody>\n",
       "</table>\n",
       "</div>"
      ],
      "text/plain": [
       "                                        Neighborhood 1st Most Common Venue  \\\n",
       "0                           Adelaide, King, Richmond           Coffee Shop   \n",
       "1                                          Agincourt    Chinese Restaurant   \n",
       "2  Agincourt North, L'Amoreaux East, Milliken, St...    Chinese Restaurant   \n",
       "3  Albion Gardens, Beaumond Heights, Humbergate, ...           Coffee Shop   \n",
       "4                             Alderwood, Long Branch           Coffee Shop   \n",
       "\n",
       "   2nd Most Common Venue   3rd Most Common Venue 4th Most Common Venue  \\\n",
       "0                   Café        Sushi Restaurant                   Bar   \n",
       "1            Coffee Shop       Indian Restaurant           Supermarket   \n",
       "2  Vietnamese Restaurant             Coffee Shop       Bubble Tea Shop   \n",
       "3   Fast Food Restaurant        Asian Restaurant              Pharmacy   \n",
       "4           Burger Joint  Furniture / Home Store                  Café   \n",
       "\n",
       "  5th Most Common Venue 6th Most Common Venue      7th Most Common Venue  \\\n",
       "0       Thai Restaurant      Asian Restaurant                        Gym   \n",
       "1              Pharmacy            Restaurant       Caribbean Restaurant   \n",
       "2                Bakery              Pharmacy               Dessert Shop   \n",
       "3        Sandwich Place         Grocery Store         Chinese Restaurant   \n",
       "4        Breakfast Spot                Bakery  Middle Eastern Restaurant   \n",
       "\n",
       "  8th Most Common Venue 9th Most Common Venue 10th Most Common Venue  \n",
       "0            Steakhouse                 Hotel    American Restaurant  \n",
       "1             Bookstore        Breakfast Spot         Clothing Store  \n",
       "2          Noodle House     Korean Restaurant    Japanese Restaurant  \n",
       "3  Caribbean Restaurant     Indian Restaurant       Sushi Restaurant  \n",
       "4         Burrito Place    Seafood Restaurant          Grocery Store  "
      ]
     },
     "execution_count": 130,
     "metadata": {},
     "output_type": "execute_result"
    }
   ],
   "source": [
    "toronto_venues_sorted = pd.read_csv(\"toronto_venues_sorted.csv\")\n",
    "toronto_venues_sorted.drop('Unnamed: 0', axis=1, inplace=True)\n",
    "\n",
    "toronto_venues_sorted.head()"
   ]
  },
  {
   "cell_type": "markdown",
   "metadata": {},
   "source": [
    "#### Getting 'Common Venue Score' and ranking the dataset by it."
   ]
  },
  {
   "cell_type": "code",
   "execution_count": 131,
   "metadata": {},
   "outputs": [
    {
     "data": {
      "text/html": [
       "<div>\n",
       "<style scoped>\n",
       "    .dataframe tbody tr th:only-of-type {\n",
       "        vertical-align: middle;\n",
       "    }\n",
       "\n",
       "    .dataframe tbody tr th {\n",
       "        vertical-align: top;\n",
       "    }\n",
       "\n",
       "    .dataframe thead th {\n",
       "        text-align: right;\n",
       "    }\n",
       "</style>\n",
       "<table border=\"1\" class=\"dataframe\">\n",
       "  <thead>\n",
       "    <tr style=\"text-align: right;\">\n",
       "      <th></th>\n",
       "      <th>Neighborhood</th>\n",
       "      <th>Common Venue Score</th>\n",
       "    </tr>\n",
       "  </thead>\n",
       "  <tbody>\n",
       "    <tr>\n",
       "      <th>0</th>\n",
       "      <td>Cedarbrae</td>\n",
       "      <td>10.0</td>\n",
       "    </tr>\n",
       "    <tr>\n",
       "      <th>1</th>\n",
       "      <td>Agincourt North, L'Amoreaux East, Milliken, St...</td>\n",
       "      <td>10.0</td>\n",
       "    </tr>\n",
       "    <tr>\n",
       "      <th>2</th>\n",
       "      <td>Dorset Park, Scarborough Town Centre, Wexford ...</td>\n",
       "      <td>10.0</td>\n",
       "    </tr>\n",
       "    <tr>\n",
       "      <th>3</th>\n",
       "      <td>Fairview, Henry Farm, Oriole</td>\n",
       "      <td>10.0</td>\n",
       "    </tr>\n",
       "    <tr>\n",
       "      <th>4</th>\n",
       "      <td>Bayview Village</td>\n",
       "      <td>10.0</td>\n",
       "    </tr>\n",
       "    <tr>\n",
       "      <th>5</th>\n",
       "      <td>Hillcrest Village</td>\n",
       "      <td>10.0</td>\n",
       "    </tr>\n",
       "    <tr>\n",
       "      <th>6</th>\n",
       "      <td>L'Amoreaux West</td>\n",
       "      <td>10.0</td>\n",
       "    </tr>\n",
       "    <tr>\n",
       "      <th>7</th>\n",
       "      <td>Agincourt</td>\n",
       "      <td>10.0</td>\n",
       "    </tr>\n",
       "    <tr>\n",
       "      <th>8</th>\n",
       "      <td>Maryvale, Wexford</td>\n",
       "      <td>10.0</td>\n",
       "    </tr>\n",
       "    <tr>\n",
       "      <th>9</th>\n",
       "      <td>Clarks Corners, Sullivan, Tam O'Shanter</td>\n",
       "      <td>10.0</td>\n",
       "    </tr>\n",
       "    <tr>\n",
       "      <th>10</th>\n",
       "      <td>East Birchmount Park, Ionview, Kennedy Park</td>\n",
       "      <td>10.0</td>\n",
       "    </tr>\n",
       "    <tr>\n",
       "      <th>11</th>\n",
       "      <td>Scarborough Village</td>\n",
       "      <td>7.0</td>\n",
       "    </tr>\n",
       "  </tbody>\n",
       "</table>\n",
       "</div>"
      ],
      "text/plain": [
       "                                         Neighborhood  Common Venue Score\n",
       "0                                           Cedarbrae                10.0\n",
       "1   Agincourt North, L'Amoreaux East, Milliken, St...                10.0\n",
       "2   Dorset Park, Scarborough Town Centre, Wexford ...                10.0\n",
       "3                        Fairview, Henry Farm, Oriole                10.0\n",
       "4                                     Bayview Village                10.0\n",
       "5                                   Hillcrest Village                10.0\n",
       "6                                     L'Amoreaux West                10.0\n",
       "7                                           Agincourt                10.0\n",
       "8                                   Maryvale, Wexford                10.0\n",
       "9             Clarks Corners, Sullivan, Tam O'Shanter                10.0\n",
       "10        East Birchmount Park, Ionview, Kennedy Park                10.0\n",
       "11                                Scarborough Village                 7.0"
      ]
     },
     "execution_count": 131,
     "metadata": {},
     "output_type": "execute_result"
    }
   ],
   "source": [
    "for i in range(toronto_venues_sorted.shape[0]):\n",
    "    if toronto_venues_sorted.loc[i,'1st Most Common Venue'].find('Chinese Restaurant')>=0 or   \\\n",
    "       toronto_venues_sorted.loc[i,'2nd Most Common Venue'].find('Chinese Restaurant')>=0 or   \\\n",
    "       toronto_venues_sorted.loc[i,'3rd Most Common Venue'].find('Chinese Restaurant')>=0:\n",
    "            toronto_venues_sorted.loc[i, 'Common Venue Score'] = 10\n",
    "    elif toronto_venues_sorted.loc[i,'4th Most Common Venue'].find('Chinese Restaurant')>=0 or \\\n",
    "       toronto_venues_sorted.loc[i,'5th Most Common Venue'].find('Chinese Restaurant')>=0 or   \\\n",
    "       toronto_venues_sorted.loc[i,'6th Most Common Venue'].find('Chinese Restaurant')>=0:\n",
    "            toronto_venues_sorted.loc[i, 'Common Venue Score'] = 7\n",
    "    elif toronto_venues_sorted.loc[i,'7th Most Common Venue'].find('Chinese Restaurant')>=0 or \\\n",
    "       toronto_venues_sorted.loc[i,'8th Most Common Venue'].find('Chinese Restaurant')>=0 or   \\\n",
    "       toronto_venues_sorted.loc[i,'9th Most Common Venue'].find('Chinese Restaurant')>=0 or   \\\n",
    "       toronto_venues_sorted.loc[i,'10th Most Common Venue'].find('Chinese Restaurant')>=0:\n",
    "            toronto_venues_sorted.loc[i, 'Common Venue Score'] = 4\n",
    "    else:\n",
    "            toronto_venues_sorted.loc[i, 'Common Venue Score'] = 0\n",
    "            \n",
    "toronto_venues_sorted.sort_values('Common Venue Score' , ascending = False, inplace = True)   \n",
    "toronto_venues_sorted.reset_index(drop=True, inplace=True)\n",
    "toronto_venues_sorted[['Neighborhood','Common Venue Score']].head(12)"
   ]
  },
  {
   "cell_type": "markdown",
   "metadata": {},
   "source": [
    "#### The dataset: Borough_Toronto, which includes the latitude and longitude"
   ]
  },
  {
   "cell_type": "code",
   "execution_count": 132,
   "metadata": {},
   "outputs": [
    {
     "data": {
      "text/html": [
       "<div>\n",
       "<style scoped>\n",
       "    .dataframe tbody tr th:only-of-type {\n",
       "        vertical-align: middle;\n",
       "    }\n",
       "\n",
       "    .dataframe tbody tr th {\n",
       "        vertical-align: top;\n",
       "    }\n",
       "\n",
       "    .dataframe thead th {\n",
       "        text-align: right;\n",
       "    }\n",
       "</style>\n",
       "<table border=\"1\" class=\"dataframe\">\n",
       "  <thead>\n",
       "    <tr style=\"text-align: right;\">\n",
       "      <th></th>\n",
       "      <th>PostalCode</th>\n",
       "      <th>Borough</th>\n",
       "      <th>Neighborhood</th>\n",
       "      <th>Latitude</th>\n",
       "      <th>Longitude</th>\n",
       "    </tr>\n",
       "  </thead>\n",
       "  <tbody>\n",
       "    <tr>\n",
       "      <th>0</th>\n",
       "      <td>M3A</td>\n",
       "      <td>North York</td>\n",
       "      <td>Parkwoods</td>\n",
       "      <td>43.753259</td>\n",
       "      <td>-79.329656</td>\n",
       "    </tr>\n",
       "    <tr>\n",
       "      <th>1</th>\n",
       "      <td>M4A</td>\n",
       "      <td>North York</td>\n",
       "      <td>Victoria Village</td>\n",
       "      <td>43.725882</td>\n",
       "      <td>-79.315572</td>\n",
       "    </tr>\n",
       "    <tr>\n",
       "      <th>2</th>\n",
       "      <td>M5A</td>\n",
       "      <td>Downtown Toronto</td>\n",
       "      <td>Harbourfront, Regent Park</td>\n",
       "      <td>43.654260</td>\n",
       "      <td>-79.360636</td>\n",
       "    </tr>\n",
       "    <tr>\n",
       "      <th>3</th>\n",
       "      <td>M6A</td>\n",
       "      <td>North York</td>\n",
       "      <td>Lawrence Heights, Lawrence Manor</td>\n",
       "      <td>43.718518</td>\n",
       "      <td>-79.464763</td>\n",
       "    </tr>\n",
       "    <tr>\n",
       "      <th>4</th>\n",
       "      <td>M7A</td>\n",
       "      <td>Queen's Park</td>\n",
       "      <td>Queen's Park</td>\n",
       "      <td>43.662301</td>\n",
       "      <td>-79.389494</td>\n",
       "    </tr>\n",
       "  </tbody>\n",
       "</table>\n",
       "</div>"
      ],
      "text/plain": [
       "  PostalCode           Borough                      Neighborhood   Latitude  \\\n",
       "0        M3A        North York                         Parkwoods  43.753259   \n",
       "1        M4A        North York                  Victoria Village  43.725882   \n",
       "2        M5A  Downtown Toronto         Harbourfront, Regent Park  43.654260   \n",
       "3        M6A        North York  Lawrence Heights, Lawrence Manor  43.718518   \n",
       "4        M7A      Queen's Park                      Queen's Park  43.662301   \n",
       "\n",
       "   Longitude  \n",
       "0 -79.329656  \n",
       "1 -79.315572  \n",
       "2 -79.360636  \n",
       "3 -79.464763  \n",
       "4 -79.389494  "
      ]
     },
     "execution_count": 132,
     "metadata": {},
     "output_type": "execute_result"
    }
   ],
   "source": [
    "borough_toronto = pd.read_csv(\"toronto_borough.csv\")\n",
    "borough_toronto.drop('Unnamed: 0', axis=1, inplace=True)\n",
    "borough_toronto.head()"
   ]
  },
  {
   "cell_type": "markdown",
   "metadata": {},
   "source": [
    "#### Getting all Chinese restaurants of neighborhoods in Toronto"
   ]
  },
  {
   "cell_type": "code",
   "execution_count": 133,
   "metadata": {},
   "outputs": [],
   "source": [
    "CLIENT_ID = 'BMD5UMUXO0EIAIWFLU4QH2N5C3HQ1W3GXNEUHIWMGZ52RLZN' # your Foursquare ID\n",
    "CLIENT_SECRET = 'WSAWH1VJ3YHFRYVJREYRIM3TIFHVNQYENEXYGCSPYZUV4WCE' # your Foursquare Secret\n",
    "VERSION = '20180605' # Foursquare API version\n",
    "LIMIT = 100\n",
    "radius = 1000"
   ]
  },
  {
   "cell_type": "code",
   "execution_count": 134,
   "metadata": {},
   "outputs": [],
   "source": [
    "# function that extracts the category of the venue\n",
    "def get_category_type(row):\n",
    "    try:\n",
    "        categories_list = row['categories']\n",
    "    except:\n",
    "        categories_list = row['venue.categories']\n",
    "        \n",
    "    if len(categories_list) == 0:\n",
    "        return None\n",
    "    else:\n",
    "        return categories_list[0]['name']"
   ]
  },
  {
   "cell_type": "code",
   "execution_count": 135,
   "metadata": {},
   "outputs": [],
   "source": [
    "def getNearbyVenues(names, latitudes, longitudes):\n",
    "    venues_list=[]\n",
    "    for name, lat, lng in zip(names, latitudes, longitudes):      \n",
    "        # create the API request URL\n",
    "        url = 'https://api.foursquare.com/v2/venues/explore?&client_id={}&client_secret={}&v={}&ll={},{}&limit={}'.format(\n",
    "            CLIENT_ID, CLIENT_SECRET, VERSION, lat, lng, LIMIT)          \n",
    "        # make the GET request\n",
    "        results = requests.get(url).json()[\"response\"]['groups'][0]['items']      \n",
    "        # return only relevant information for each nearby venue\n",
    "        venues_list.append([(name, lat, lng, v['venue']['id'],\n",
    "            v['venue']['name'], v['venue']['location']['lat'], v['venue']['location']['lng'],  \n",
    "            v['venue']['categories'][0]['name']) for v in results])    \n",
    "    nearby_venues = pd.DataFrame([item for venue_list in venues_list for item in venue_list])\n",
    "    nearby_venues.columns = ['Neighborhood', 'Neighborhood Latitude', 'Neighborhood Longitude', \n",
    "                  'Venue ID','Venue Name', 'Venue Latitude','Venue Longitude',  'Venue Category']\n",
    "    return(nearby_venues)"
   ]
  },
  {
   "cell_type": "code",
   "execution_count": 136,
   "metadata": {},
   "outputs": [],
   "source": [
    "toronto_venues = getNearbyVenues(names=borough_toronto['Neighborhood'],\n",
    "                                   latitudes=borough_toronto['Latitude'],\n",
    "                                   longitudes=borough_toronto['Longitude']\n",
    "                                  )\n",
    "\n",
    "toronto_chn_rest = toronto_venues.copy()\n",
    "\n",
    "for i in range(toronto_chn_rest.shape[0]):\n",
    "    if toronto_chn_rest.loc[i,'Venue Category'].find('Chinese Restaurant')<0 :\n",
    "        toronto_chn_rest.drop(index = i, axis=0, inplace=True)\n",
    "        \n",
    "toronto_chn_rest.reset_index(drop = True, inplace=True)  "
   ]
  },
  {
   "cell_type": "code",
   "execution_count": 137,
   "metadata": {},
   "outputs": [
    {
     "name": "stdout",
     "output_type": "stream",
     "text": [
      "dataset shape:  (160, 8)\n",
      "\n",
      "\n"
     ]
    },
    {
     "data": {
      "text/html": [
       "<div>\n",
       "<style scoped>\n",
       "    .dataframe tbody tr th:only-of-type {\n",
       "        vertical-align: middle;\n",
       "    }\n",
       "\n",
       "    .dataframe tbody tr th {\n",
       "        vertical-align: top;\n",
       "    }\n",
       "\n",
       "    .dataframe thead th {\n",
       "        text-align: right;\n",
       "    }\n",
       "</style>\n",
       "<table border=\"1\" class=\"dataframe\">\n",
       "  <thead>\n",
       "    <tr style=\"text-align: right;\">\n",
       "      <th></th>\n",
       "      <th>Neighborhood</th>\n",
       "      <th>Neighborhood Latitude</th>\n",
       "      <th>Neighborhood Longitude</th>\n",
       "      <th>Venue ID</th>\n",
       "      <th>Venue Name</th>\n",
       "      <th>Venue Latitude</th>\n",
       "      <th>Venue Longitude</th>\n",
       "      <th>Venue Category</th>\n",
       "    </tr>\n",
       "  </thead>\n",
       "  <tbody>\n",
       "    <tr>\n",
       "      <th>0</th>\n",
       "      <td>Parkwoods</td>\n",
       "      <td>43.753259</td>\n",
       "      <td>-79.329656</td>\n",
       "      <td>5b6a321d340a58002cc0d9db</td>\n",
       "      <td>Omni Palace Noodle House</td>\n",
       "      <td>43.771047</td>\n",
       "      <td>-79.331570</td>\n",
       "      <td>Chinese Restaurant</td>\n",
       "    </tr>\n",
       "    <tr>\n",
       "      <th>1</th>\n",
       "      <td>Parkwoods</td>\n",
       "      <td>43.753259</td>\n",
       "      <td>-79.329656</td>\n",
       "      <td>584e235102b60e2d40263821</td>\n",
       "      <td>天天渔港 Captain's Catch</td>\n",
       "      <td>43.774961</td>\n",
       "      <td>-79.333873</td>\n",
       "      <td>Chinese Restaurant</td>\n",
       "    </tr>\n",
       "    <tr>\n",
       "      <th>2</th>\n",
       "      <td>Parkwoods</td>\n",
       "      <td>43.753259</td>\n",
       "      <td>-79.329656</td>\n",
       "      <td>4ae71b0cf964a52078a821e3</td>\n",
       "      <td>Noodle Delight</td>\n",
       "      <td>43.772399</td>\n",
       "      <td>-79.320209</td>\n",
       "      <td>Chinese Restaurant</td>\n",
       "    </tr>\n",
       "    <tr>\n",
       "      <th>3</th>\n",
       "      <td>Victoria Village</td>\n",
       "      <td>43.725882</td>\n",
       "      <td>-79.315572</td>\n",
       "      <td>55dded07498eecf46ed3e0d9</td>\n",
       "      <td>Hakka Legend</td>\n",
       "      <td>43.726046</td>\n",
       "      <td>-79.286561</td>\n",
       "      <td>Chinese Restaurant</td>\n",
       "    </tr>\n",
       "    <tr>\n",
       "      <th>4</th>\n",
       "      <td>Victoria Village</td>\n",
       "      <td>43.725882</td>\n",
       "      <td>-79.315572</td>\n",
       "      <td>5269be82498e1cf7de5d5dd4</td>\n",
       "      <td>Super Hakka Restaurant</td>\n",
       "      <td>43.742892</td>\n",
       "      <td>-79.304949</td>\n",
       "      <td>Chinese Restaurant</td>\n",
       "    </tr>\n",
       "  </tbody>\n",
       "</table>\n",
       "</div>"
      ],
      "text/plain": [
       "       Neighborhood  Neighborhood Latitude  Neighborhood Longitude  \\\n",
       "0         Parkwoods              43.753259              -79.329656   \n",
       "1         Parkwoods              43.753259              -79.329656   \n",
       "2         Parkwoods              43.753259              -79.329656   \n",
       "3  Victoria Village              43.725882              -79.315572   \n",
       "4  Victoria Village              43.725882              -79.315572   \n",
       "\n",
       "                   Venue ID                Venue Name  Venue Latitude  \\\n",
       "0  5b6a321d340a58002cc0d9db  Omni Palace Noodle House       43.771047   \n",
       "1  584e235102b60e2d40263821      天天渔港 Captain's Catch       43.774961   \n",
       "2  4ae71b0cf964a52078a821e3            Noodle Delight       43.772399   \n",
       "3  55dded07498eecf46ed3e0d9              Hakka Legend       43.726046   \n",
       "4  5269be82498e1cf7de5d5dd4    Super Hakka Restaurant       43.742892   \n",
       "\n",
       "   Venue Longitude      Venue Category  \n",
       "0       -79.331570  Chinese Restaurant  \n",
       "1       -79.333873  Chinese Restaurant  \n",
       "2       -79.320209  Chinese Restaurant  \n",
       "3       -79.286561  Chinese Restaurant  \n",
       "4       -79.304949  Chinese Restaurant  "
      ]
     },
     "execution_count": 137,
     "metadata": {},
     "output_type": "execute_result"
    }
   ],
   "source": [
    "print('dataset shape: ', toronto_chn_rest.shape)\n",
    "print('\\n')\n",
    "toronto_chn_rest.head()"
   ]
  },
  {
   "cell_type": "markdown",
   "metadata": {},
   "source": [
    "#### Getting the rating and tips of each restaurant"
   ]
  },
  {
   "cell_type": "markdown",
   "metadata": {},
   "source": [
    "For example, we can get the rating and tips of the following 2 restaurants - Noodle Delight and Omni Palace Noodle House."
   ]
  },
  {
   "cell_type": "code",
   "execution_count": 138,
   "metadata": {},
   "outputs": [
    {
     "name": "stdout",
     "output_type": "stream",
     "text": [
      "Rating:  7.3\n",
      "# of Tips:  12\n"
     ]
    }
   ],
   "source": [
    "venue_id = '4ae71b0cf964a52078a821e3' # ID of Noodle Delight\n",
    "url = 'https://api.foursquare.com/v2/venues/{}?client_id={}&client_secret={}&v={}'.format(venue_id, CLIENT_ID, CLIENT_SECRET, VERSION)\n",
    "\n",
    "result = requests.get(url).json()\n",
    "try:\n",
    "    print('Rating: ', result['response']['venue']['rating'])\n",
    "except:\n",
    "    print('This venue has not been rated yet.')\n",
    "    \n",
    "print('# of Tips: ', result['response']['venue']['tips']['count'])"
   ]
  },
  {
   "cell_type": "code",
   "execution_count": 139,
   "metadata": {},
   "outputs": [
    {
     "name": "stdout",
     "output_type": "stream",
     "text": [
      "Rating:  7.7\n",
      "# of Tips:  3\n"
     ]
    }
   ],
   "source": [
    "venue_id = '584e235102b60e2d40263821' # ID of Omni Palace Noodle House\n",
    "url = 'https://api.foursquare.com/v2/venues/{}?client_id={}&client_secret={}&v={}'.format(venue_id, CLIENT_ID, CLIENT_SECRET, VERSION)\n",
    "\n",
    "result = requests.get(url).json()\n",
    "try:\n",
    "    print('Rating: ', result['response']['venue']['rating'])\n",
    "except:\n",
    "    print('This venue has not been rated yet.')\n",
    "    \n",
    "print('# of Tips: ', result['response']['venue']['tips']['count'])"
   ]
  },
  {
   "cell_type": "code",
   "execution_count": null,
   "metadata": {},
   "outputs": [],
   "source": []
  }
 ],
 "metadata": {
  "kernelspec": {
   "display_name": "Python",
   "language": "python",
   "name": "conda-env-python-py"
  },
  "language_info": {
   "codemirror_mode": {
    "name": "ipython",
    "version": 3
   },
   "file_extension": ".py",
   "mimetype": "text/x-python",
   "name": "python",
   "nbconvert_exporter": "python",
   "pygments_lexer": "ipython3",
   "version": "3.6.7"
  }
 },
 "nbformat": 4,
 "nbformat_minor": 4
}
